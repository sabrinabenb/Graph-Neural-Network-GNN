{
  "cells": [
    {
      "cell_type": "code",
      "execution_count": null,
      "metadata": {
        "colab": {
          "base_uri": "https://localhost:8080/"
        },
        "id": "q9mRkL8ry5RR",
        "outputId": "af1d115b-e729-447a-da61-055d3704d3ff"
      },
      "outputs": [
        {
          "output_type": "stream",
          "name": "stdout",
          "text": [
            "2.3.1+cu121\n",
            "\u001b[2K     \u001b[90m━━━━━━━━━━━━━━━━━━━━━━━━━━━━━━━━━━━━━━━━\u001b[0m \u001b[32m108.0/108.0 kB\u001b[0m \u001b[31m2.6 MB/s\u001b[0m eta \u001b[36m0:00:00\u001b[0m\n",
            "\u001b[?25h  Preparing metadata (setup.py) ... \u001b[?25l\u001b[?25hdone\n",
            "  Building wheel for torch-scatter (setup.py) ... \u001b[?25l\u001b[?25hdone\n",
            "\u001b[2K     \u001b[90m━━━━━━━━━━━━━━━━━━━━━━━━━━━━━━━━━━━━━━━━\u001b[0m \u001b[32m210.0/210.0 kB\u001b[0m \u001b[31m3.5 MB/s\u001b[0m eta \u001b[36m0:00:00\u001b[0m\n",
            "\u001b[?25h  Preparing metadata (setup.py) ... \u001b[?25l\u001b[?25hdone\n",
            "  Building wheel for torch-sparse (setup.py) ... \u001b[?25l\u001b[?25hcanceled\n",
            "\u001b[31mERROR: Operation cancelled by user\u001b[0m\u001b[31m\n",
            "\u001b[0m  Installing build dependencies ... \u001b[?25l\u001b[?25hdone\n",
            "  Getting requirements to build wheel ... \u001b[?25l\u001b[?25hdone\n",
            "  Preparing metadata (pyproject.toml) ... \u001b[?25l\u001b[?25hdone\n",
            "  Building wheel for torch-geometric (pyproject.toml) ... \u001b[?25l\u001b[?25hdone\n"
          ]
        }
      ],
      "source": [
        "# Install required packages.\n",
        "import os\n",
        "import torch\n",
        "os.environ['TORCH'] = torch.__version__\n",
        "print(torch.__version__)\n",
        "\n",
        "!pip install -q torch-scatter -f https://data.pyg.org/whl/torch-${TORCH}.html\n",
        "!pip install -q torch-sparse -f https://data.pyg.org/whl/torch-${TORCH}.html\n",
        "!pip install -q git+https://github.com/pyg-team/pytorch_geometric.git\n"
      ]
    },
    {
      "cell_type": "code",
      "source": [
        "import torch\n",
        "torch.cuda.is_available()"
      ],
      "metadata": {
        "id": "ZtUr587QLWwY",
        "outputId": "13ae01c5-64a3-4ef6-f083-8c1ca45b44aa",
        "colab": {
          "base_uri": "https://localhost:8080/"
        }
      },
      "execution_count": null,
      "outputs": [
        {
          "output_type": "execute_result",
          "data": {
            "text/plain": [
              "False"
            ]
          },
          "metadata": {},
          "execution_count": 1
        }
      ]
    },
    {
      "cell_type": "markdown",
      "metadata": {
        "id": "M8oDYhQR33Y5"
      },
      "source": [
        "the diffrent steps of GCNConv is\n",
        "\n",
        "\n",
        "*   Add self-loops to the adjacency matrix.\n",
        "*   Linearly transform node feature matrix.\n",
        "*   Compute normalization coefficients.\n",
        "*   Normalize node features\n",
        "*   Sum up neighboring node features (\"add\" aggregation).\n",
        "*   Apply a final bias vector.\n",
        "\n",
        "\n",
        "\n",
        "\n",
        "\n"
      ]
    },
    {
      "cell_type": "code",
      "execution_count": null,
      "metadata": {
        "id": "BLzf_I9h4mS3"
      },
      "outputs": [],
      "source": [
        "import torch\n",
        "from torch.nn import Linear, Parameter\n",
        "from torch_geometric.utils import degree,add_self_loops\n",
        "class GCNConv(torch.nn.Module):\n",
        "  def __init__(self, in_channal, out_chennal) -> None:\n",
        "    super().__init__(aggr='add')\n",
        "    self.lin=Linear(in_channal=in_channal, out_chennal=out_chennal)\n",
        "    self.bais=Parameter(torch.empty(out_chennal))\n",
        "    self.reset_perematers()\n",
        "\n",
        "  def reset_perematers(self):\n",
        "    self.lin.reset_perematers()\n",
        "    self.bais.data.zero\n",
        "  def forward(self, x, edges_endex):\n",
        "\n",
        "        edges_endex, _ =add_self_loops(edge_index=edges_endex,num_nodes=x.size(0))\n",
        "\n",
        "        row,col=edges_endex\n",
        "        deg=degree(col, x.size(0))\n",
        "        deg_inv_sqrt=deg.pow(-0.5)\n",
        "        deg_inv_sqrt[deg_inv_sqrt == float('inf')] = 0\n",
        "        norm = deg_inv_sqrt[row] * deg_inv_sqrt[col]\n",
        "\n",
        "        out = self.propagate(edges_endex, x=x, norm=norm)\n",
        "        out=out+self.bais\n",
        "        return out\n",
        "\n",
        "  def message(self, x_j, norm):\n",
        "\n",
        "        return norm.view(-1, 1) * x_j\n"
      ]
    },
    {
      "cell_type": "code",
      "source": [],
      "metadata": {
        "id": "M4XV4gxlXp6w"
      },
      "execution_count": null,
      "outputs": []
    },
    {
      "cell_type": "code",
      "execution_count": null,
      "metadata": {
        "colab": {
          "base_uri": "https://localhost:8080/"
        },
        "id": "URtPsK4uMKmw",
        "outputId": "395a0f37-e49b-443a-f9c3-1b0525e0de42"
      },
      "outputs": [
        {
          "name": "stdout",
          "output_type": "stream",
          "text": [
            "\n",
            "Dataset: Cora():\n",
            "======================\n",
            "Number of graphs: 1\n",
            "Number of features: 1433\n",
            "Number of classes: 7\n"
          ]
        },
        {
          "data": {
            "text/plain": [
              "Data(x=[2708, 1433], edge_index=[2, 10556], y=[2708], train_mask=[2708], val_mask=[2708], test_mask=[2708])"
            ]
          },
          "execution_count": 22,
          "metadata": {},
          "output_type": "execute_result"
        }
      ],
      "source": [
        "from torch_geometric.datasets import Planetoid\n",
        "from torch_geometric.transforms import NormalizeFeatures\n",
        "\n",
        "dataset = Planetoid(root='data/Planetoid', name='Cora', transform=NormalizeFeatures())\n",
        "\n",
        "print()\n",
        "print(f'Dataset: {dataset}:')\n",
        "print('======================')\n",
        "print(f'Number of graphs: {len(dataset)}')\n",
        "print(f'Number of features: {dataset.num_features}')\n",
        "print(f'Number of classes: {dataset.num_classes}')\n",
        "\n",
        "data = dataset[0]\n",
        "data"
      ]
    },
    {
      "cell_type": "markdown",
      "metadata": {
        "id": "a1rTI5hrL8rP"
      },
      "source": [
        "create the model"
      ]
    },
    {
      "cell_type": "code",
      "execution_count": null,
      "metadata": {
        "id": "FgXXWM5IMSxF"
      },
      "outputs": [],
      "source": [
        "\n",
        "import torch\n",
        "from torch.nn import Linear, Parameter\n",
        "from torch_geometric.nn import MessagePassing\n",
        "from torch_geometric.utils import add_self_loops, degree\n",
        "\n",
        "class GCNConv(MessagePassing):\n",
        "    def __init__(self, in_channels, out_channels):\n",
        "        super().__init__(aggr='add')\n",
        "        self.lin = Linear(in_channels, out_channels, bias=False)\n",
        "        self.bias = Parameter(torch.empty(out_channels))\n",
        "\n",
        "        self.reset_parameters()\n",
        "\n",
        "    def reset_parameters(self):\n",
        "        self.lin.reset_parameters()\n",
        "        self.bias.data.zero_()\n",
        "\n",
        "    def forward(self, x, edge_index):\n",
        "\n",
        "        edge_index, _ = add_self_loops(edge_index, num_nodes=x.size(0))\n",
        "\n",
        "\n",
        "        x = self.lin(x)\n",
        "\n",
        "\n",
        "        row, col = edge_index\n",
        "        deg = degree(col, x.size(0), dtype=x.dtype)\n",
        "        deg_inv_sqrt = deg.pow(-0.5)\n",
        "        deg_inv_sqrt[deg_inv_sqrt == float('inf')] = 0\n",
        "        norm = deg_inv_sqrt[row] * deg_inv_sqrt[col]\n",
        "\n",
        "\n",
        "        out = self.propagate(edge_index, x=x, norm=norm)\n",
        "\n",
        "\n",
        "        out = out + self.bias\n",
        "\n",
        "        return out\n",
        "\n",
        "    def message(self, x_j, norm):\n",
        "\n",
        "        return norm.view(-1, 1) * x_j"
      ]
    },
    {
      "cell_type": "code",
      "execution_count": null,
      "metadata": {
        "colab": {
          "base_uri": "https://localhost:8080/"
        },
        "id": "kM_IXWkTNv5O",
        "outputId": "32d5d571-5055-4357-ddfa-275c9a216ee1"
      },
      "outputs": [
        {
          "name": "stdout",
          "output_type": "stream",
          "text": [
            "GCN(\n",
            "  (conv1): GCNConv()\n",
            "  (conv2): GCNConv()\n",
            ")\n"
          ]
        }
      ],
      "source": [
        "import torch\n",
        "from torch.nn import Linear\n",
        "import torch.nn.functional as F\n",
        "\n",
        "class GCN(torch.nn.Module):\n",
        "    def __init__(self, hidden_channels):\n",
        "        super().__init__()\n",
        "        torch.manual_seed(1234567)\n",
        "        self.conv1 = GCNConv(dataset.num_features, hidden_channels)\n",
        "        self.conv2 = GCNConv(hidden_channels, dataset.num_classes)\n",
        "\n",
        "    def forward(self, x, edge_index):\n",
        "        x = self.conv1(x, edge_index)\n",
        "        x = x.relu()\n",
        "        x = F.dropout(x, p=0.5, training=self.training)\n",
        "        x = self.conv2(x, edge_index)\n",
        "        return x\n",
        "\n",
        "model = GCN(hidden_channels=16)\n",
        "print(model)"
      ]
    },
    {
      "cell_type": "code",
      "execution_count": null,
      "metadata": {
        "colab": {
          "base_uri": "https://localhost:8080/",
          "height": 300
        },
        "id": "h-miAzjfQgkl",
        "outputId": "b781e9ab-1ae7-401c-84b9-a85b58751092"
      },
      "outputs": [
        {
          "data": {
            "application/javascript": [
              "google.colab.output.setIframeHeight(0, true, {maxHeight: 300})"
            ],
            "text/plain": [
              "<IPython.core.display.Javascript object>"
            ]
          },
          "metadata": {},
          "output_type": "display_data"
        },
        {
          "name": "stdout",
          "output_type": "stream",
          "text": [
            "Epoch: 001, Loss: 1.9460\n",
            "Epoch: 002, Loss: 1.9437\n",
            "Epoch: 003, Loss: 1.9405\n",
            "Epoch: 004, Loss: 1.9371\n",
            "Epoch: 005, Loss: 1.9323\n",
            "Epoch: 006, Loss: 1.9272\n",
            "Epoch: 007, Loss: 1.9240\n",
            "Epoch: 008, Loss: 1.9186\n",
            "Epoch: 009, Loss: 1.9130\n",
            "Epoch: 010, Loss: 1.9054\n",
            "Epoch: 011, Loss: 1.9016\n",
            "Epoch: 012, Loss: 1.8953\n",
            "Epoch: 013, Loss: 1.8841\n",
            "Epoch: 014, Loss: 1.8809\n",
            "Epoch: 015, Loss: 1.8704\n",
            "Epoch: 016, Loss: 1.8653\n",
            "Epoch: 017, Loss: 1.8556\n",
            "Epoch: 018, Loss: 1.8441\n",
            "Epoch: 019, Loss: 1.8357\n",
            "Epoch: 020, Loss: 1.8263\n",
            "Epoch: 021, Loss: 1.8163\n",
            "Epoch: 022, Loss: 1.8092\n",
            "Epoch: 023, Loss: 1.8015\n",
            "Epoch: 024, Loss: 1.7846\n",
            "Epoch: 025, Loss: 1.7745\n",
            "Epoch: 026, Loss: 1.7562\n",
            "Epoch: 027, Loss: 1.7480\n",
            "Epoch: 028, Loss: 1.7301\n",
            "Epoch: 029, Loss: 1.7136\n",
            "Epoch: 030, Loss: 1.7053\n",
            "Epoch: 031, Loss: 1.6922\n",
            "Epoch: 032, Loss: 1.6709\n",
            "Epoch: 033, Loss: 1.6560\n",
            "Epoch: 034, Loss: 1.6509\n",
            "Epoch: 035, Loss: 1.6360\n",
            "Epoch: 036, Loss: 1.5798\n",
            "Epoch: 037, Loss: 1.5886\n",
            "Epoch: 038, Loss: 1.5670\n",
            "Epoch: 039, Loss: 1.5472\n",
            "Epoch: 040, Loss: 1.5170\n",
            "Epoch: 041, Loss: 1.5048\n",
            "Epoch: 042, Loss: 1.5008\n",
            "Epoch: 043, Loss: 1.4484\n",
            "Epoch: 044, Loss: 1.4521\n",
            "Epoch: 045, Loss: 1.4476\n",
            "Epoch: 046, Loss: 1.4238\n",
            "Epoch: 047, Loss: 1.3956\n",
            "Epoch: 048, Loss: 1.3733\n",
            "Epoch: 049, Loss: 1.3729\n",
            "Epoch: 050, Loss: 1.3342\n",
            "Epoch: 051, Loss: 1.3014\n",
            "Epoch: 052, Loss: 1.3122\n",
            "Epoch: 053, Loss: 1.2612\n",
            "Epoch: 054, Loss: 1.2249\n",
            "Epoch: 055, Loss: 1.2301\n",
            "Epoch: 056, Loss: 1.2190\n",
            "Epoch: 057, Loss: 1.2043\n",
            "Epoch: 058, Loss: 1.1809\n",
            "Epoch: 059, Loss: 1.1528\n",
            "Epoch: 060, Loss: 1.1581\n",
            "Epoch: 061, Loss: 1.1622\n",
            "Epoch: 062, Loss: 1.1042\n",
            "Epoch: 063, Loss: 1.0668\n",
            "Epoch: 064, Loss: 1.0403\n",
            "Epoch: 065, Loss: 1.0029\n",
            "Epoch: 066, Loss: 1.0316\n",
            "Epoch: 067, Loss: 1.0023\n",
            "Epoch: 068, Loss: 0.9937\n",
            "Epoch: 069, Loss: 1.0076\n",
            "Epoch: 070, Loss: 0.9146\n",
            "Epoch: 071, Loss: 0.9443\n",
            "Epoch: 072, Loss: 0.8952\n",
            "Epoch: 073, Loss: 0.8910\n",
            "Epoch: 074, Loss: 0.9203\n",
            "Epoch: 075, Loss: 0.8955\n",
            "Epoch: 076, Loss: 0.8408\n",
            "Epoch: 077, Loss: 0.8683\n",
            "Epoch: 078, Loss: 0.8200\n",
            "Epoch: 079, Loss: 0.8453\n",
            "Epoch: 080, Loss: 0.7920\n",
            "Epoch: 081, Loss: 0.7860\n",
            "Epoch: 082, Loss: 0.7783\n",
            "Epoch: 083, Loss: 0.8217\n",
            "Epoch: 084, Loss: 0.8014\n",
            "Epoch: 085, Loss: 0.7353\n",
            "Epoch: 086, Loss: 0.7669\n",
            "Epoch: 087, Loss: 0.7128\n",
            "Epoch: 088, Loss: 0.7022\n",
            "Epoch: 089, Loss: 0.7292\n",
            "Epoch: 090, Loss: 0.7493\n",
            "Epoch: 091, Loss: 0.6901\n",
            "Epoch: 092, Loss: 0.6580\n",
            "Epoch: 093, Loss: 0.6263\n",
            "Epoch: 094, Loss: 0.6456\n",
            "Epoch: 095, Loss: 0.6518\n",
            "Epoch: 096, Loss: 0.6564\n",
            "Epoch: 097, Loss: 0.6323\n",
            "Epoch: 098, Loss: 0.6628\n",
            "Epoch: 099, Loss: 0.6540\n",
            "Epoch: 100, Loss: 0.6657\n",
            "Epoch: 101, Loss: 0.6378\n",
            "Epoch: 102, Loss: 0.6212\n",
            "Epoch: 103, Loss: 0.6382\n",
            "Epoch: 104, Loss: 0.5929\n",
            "Epoch: 105, Loss: 0.6169\n",
            "Epoch: 106, Loss: 0.5593\n",
            "Epoch: 107, Loss: 0.6130\n",
            "Epoch: 108, Loss: 0.6069\n",
            "Epoch: 109, Loss: 0.5780\n",
            "Epoch: 110, Loss: 0.5856\n",
            "Epoch: 111, Loss: 0.5648\n",
            "Epoch: 112, Loss: 0.5372\n",
            "Epoch: 113, Loss: 0.5386\n",
            "Epoch: 114, Loss: 0.5308\n",
            "Epoch: 115, Loss: 0.5264\n",
            "Epoch: 116, Loss: 0.5587\n",
            "Epoch: 117, Loss: 0.5327\n",
            "Epoch: 118, Loss: 0.5444\n",
            "Epoch: 119, Loss: 0.5174\n",
            "Epoch: 120, Loss: 0.5229\n",
            "Epoch: 121, Loss: 0.5292\n",
            "Epoch: 122, Loss: 0.5095\n",
            "Epoch: 123, Loss: 0.5402\n",
            "Epoch: 124, Loss: 0.5126\n",
            "Epoch: 125, Loss: 0.4803\n",
            "Epoch: 126, Loss: 0.5173\n",
            "Epoch: 127, Loss: 0.5124\n",
            "Epoch: 128, Loss: 0.5457\n",
            "Epoch: 129, Loss: 0.4658\n",
            "Epoch: 130, Loss: 0.4696\n",
            "Epoch: 131, Loss: 0.5145\n",
            "Epoch: 132, Loss: 0.4643\n",
            "Epoch: 133, Loss: 0.4921\n",
            "Epoch: 134, Loss: 0.4827\n",
            "Epoch: 135, Loss: 0.4535\n",
            "Epoch: 136, Loss: 0.4909\n",
            "Epoch: 137, Loss: 0.4568\n",
            "Epoch: 138, Loss: 0.5224\n",
            "Epoch: 139, Loss: 0.4602\n",
            "Epoch: 140, Loss: 0.4202\n",
            "Epoch: 141, Loss: 0.4553\n",
            "Epoch: 142, Loss: 0.4304\n",
            "Epoch: 143, Loss: 0.4294\n",
            "Epoch: 144, Loss: 0.4862\n",
            "Epoch: 145, Loss: 0.4756\n",
            "Epoch: 146, Loss: 0.3920\n",
            "Epoch: 147, Loss: 0.4069\n",
            "Epoch: 148, Loss: 0.4468\n",
            "Epoch: 149, Loss: 0.4171\n",
            "Epoch: 150, Loss: 0.4480\n",
            "Epoch: 151, Loss: 0.4496\n",
            "Epoch: 152, Loss: 0.4291\n",
            "Epoch: 153, Loss: 0.4155\n",
            "Epoch: 154, Loss: 0.4429\n",
            "Epoch: 155, Loss: 0.4422\n",
            "Epoch: 156, Loss: 0.4101\n",
            "Epoch: 157, Loss: 0.4262\n",
            "Epoch: 158, Loss: 0.3852\n",
            "Epoch: 159, Loss: 0.4104\n",
            "Epoch: 160, Loss: 0.4123\n",
            "Epoch: 161, Loss: 0.3872\n",
            "Epoch: 162, Loss: 0.4314\n",
            "Epoch: 163, Loss: 0.4189\n",
            "Epoch: 164, Loss: 0.3982\n",
            "Epoch: 165, Loss: 0.4004\n",
            "Epoch: 166, Loss: 0.4306\n",
            "Epoch: 167, Loss: 0.4129\n",
            "Epoch: 168, Loss: 0.3919\n",
            "Epoch: 169, Loss: 0.4069\n",
            "Epoch: 170, Loss: 0.3558\n",
            "Epoch: 171, Loss: 0.3881\n",
            "Epoch: 172, Loss: 0.4164\n",
            "Epoch: 173, Loss: 0.3948\n",
            "Epoch: 174, Loss: 0.3748\n",
            "Epoch: 175, Loss: 0.3676\n",
            "Epoch: 176, Loss: 0.3954\n",
            "Epoch: 177, Loss: 0.3729\n",
            "Epoch: 178, Loss: 0.3371\n",
            "Epoch: 179, Loss: 0.3704\n",
            "Epoch: 180, Loss: 0.3511\n",
            "Epoch: 181, Loss: 0.3723\n",
            "Epoch: 182, Loss: 0.3881\n",
            "Epoch: 183, Loss: 0.3817\n",
            "Epoch: 184, Loss: 0.3867\n",
            "Epoch: 185, Loss: 0.3852\n",
            "Epoch: 186, Loss: 0.3882\n",
            "Epoch: 187, Loss: 0.3757\n",
            "Epoch: 188, Loss: 0.4188\n",
            "Epoch: 189, Loss: 0.3576\n",
            "Epoch: 190, Loss: 0.4088\n",
            "Epoch: 191, Loss: 0.3521\n",
            "Epoch: 192, Loss: 0.3758\n",
            "Epoch: 193, Loss: 0.3419\n",
            "Epoch: 194, Loss: 0.3663\n",
            "Epoch: 195, Loss: 0.3227\n",
            "Epoch: 196, Loss: 0.3535\n",
            "Epoch: 197, Loss: 0.3625\n",
            "Epoch: 198, Loss: 0.3752\n",
            "Epoch: 199, Loss: 0.3841\n",
            "Epoch: 200, Loss: 0.3396\n"
          ]
        }
      ],
      "source": [
        "from IPython.display import Javascript  # Restrict height of output cell.\n",
        "display(Javascript('''google.colab.output.setIframeHeight(0, true, {maxHeight: 300})'''))\n",
        "\n",
        "model = GCN(hidden_channels=16)\n",
        "optimizer = torch.optim.Adam(model.parameters(), lr=0.01, weight_decay=5e-4)\n",
        "criterion = torch.nn.CrossEntropyLoss()\n",
        "\n",
        "def train():\n",
        "      model.train()\n",
        "      optimizer.zero_grad()  # Clear gradients.\n",
        "      out = model(data.x, data.edge_index)  # Perform a single forward pass.\n",
        "      loss = criterion(out[data.train_mask], data.y[data.train_mask])  # Compute the loss solely based on the training nodes.\n",
        "      loss.backward()  # Derive gradients.\n",
        "      optimizer.step()  # Update parameters based on gradients.\n",
        "      return loss\n",
        "\n",
        "def test():\n",
        "      model.eval()\n",
        "      out = model(data.x, data.edge_index)\n",
        "      pred = out.argmax(dim=1)  # Use the class with highest probability.\n",
        "      test_correct = pred[data.test_mask] == data.y[data.test_mask]  # Check against ground-truth labels.\n",
        "      test_acc = int(test_correct.sum()) / int(data.test_mask.sum())  # Derive ratio of correct predictions.\n",
        "      return test_acc\n",
        "\n",
        "\n",
        "for epoch in range(1, 201):\n",
        "    loss = train()\n",
        "    print(f'Epoch: {epoch:03d}, Loss: {loss:.4f}')"
      ]
    },
    {
      "cell_type": "code",
      "execution_count": null,
      "metadata": {
        "colab": {
          "base_uri": "https://localhost:8080/"
        },
        "id": "7NgFI-snQp6k",
        "outputId": "ddb3a0c2-6ade-4ac2-f037-168f47d91686"
      },
      "outputs": [
        {
          "name": "stdout",
          "output_type": "stream",
          "text": [
            "Test Accuracy: 0.8110\n"
          ]
        }
      ],
      "source": [
        "test_acc = test()\n",
        "print(f'Test Accuracy: {test_acc:.4f}')"
      ]
    },
    {
      "cell_type": "code",
      "execution_count": null,
      "metadata": {
        "id": "Rm8epzHMNFQ2"
      },
      "outputs": [],
      "source": []
    }
  ],
  "metadata": {
    "colab": {
      "provenance": [],
      "authorship_tag": "ABX9TyOJmICXBOeUPOv8usD7ueRT"
    },
    "kernelspec": {
      "display_name": "Python 3",
      "name": "python3"
    },
    "language_info": {
      "name": "python"
    }
  },
  "nbformat": 4,
  "nbformat_minor": 0
}