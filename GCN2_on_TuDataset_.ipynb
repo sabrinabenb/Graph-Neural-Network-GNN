{
  "nbformat": 4,
  "nbformat_minor": 0,
  "metadata": {
    "colab": {
      "provenance": [],
      "gpuType": "T4",
      "authorship_tag": "ABX9TyOcq85Rc8a05f8f76SJLzJk",
      "include_colab_link": true
    },
    "kernelspec": {
      "name": "python3",
      "display_name": "Python 3"
    },
    "language_info": {
      "name": "python"
    },
    "accelerator": "GPU"
  },
  "cells": [
    {
      "cell_type": "markdown",
      "metadata": {
        "id": "view-in-github",
        "colab_type": "text"
      },
      "source": [
        "<a href=\"https://colab.research.google.com/github/sabrinabenb/Graph-Neural-Network-GNN/blob/main/GCN2_on_TuDataset_.ipynb\" target=\"_parent\"><img src=\"https://colab.research.google.com/assets/colab-badge.svg\" alt=\"Open In Colab\"/></a>"
      ]
    },
    {
      "cell_type": "code",
      "execution_count": null,
      "metadata": {
        "colab": {
          "base_uri": "https://localhost:8080/"
        },
        "id": "UC0ucNyROLHr",
        "outputId": "92061a36-5fa6-4dca-ea38-bfb1138ed749"
      },
      "outputs": [
        {
          "output_type": "stream",
          "name": "stdout",
          "text": [
            "2.3.1+cu121\n",
            "\u001b[2K     \u001b[90m━━━━━━━━━━━━━━━━━━━━━━━━━━━━━━━━━━━━━━━━\u001b[0m \u001b[32m10.9/10.9 MB\u001b[0m \u001b[31m35.3 MB/s\u001b[0m eta \u001b[36m0:00:00\u001b[0m\n",
            "\u001b[2K     \u001b[90m━━━━━━━━━━━━━━━━━━━━━━━━━━━━━━━━━━━━━━━━\u001b[0m \u001b[32m5.1/5.1 MB\u001b[0m \u001b[31m40.7 MB/s\u001b[0m eta \u001b[36m0:00:00\u001b[0m\n",
            "\u001b[?25h  Installing build dependencies ... \u001b[?25l\u001b[?25hdone\n",
            "  Getting requirements to build wheel ... \u001b[?25l\u001b[?25hdone\n",
            "  Preparing metadata (pyproject.toml) ... \u001b[?25l\u001b[?25hdone\n",
            "  Building wheel for torch-geometric (pyproject.toml) ... \u001b[?25l\u001b[?25hdone\n"
          ]
        }
      ],
      "source": [
        "# Install required packages.\n",
        "import os\n",
        "import torch\n",
        "os.environ['TORCH'] = torch.__version__\n",
        "print(torch.__version__)\n",
        "\n",
        "!pip install -q torch-scatter -f https://data.pyg.org/whl/torch-${TORCH}.html\n",
        "!pip install -q torch-sparse -f https://data.pyg.org/whl/torch-${TORCH}.html\n",
        "!pip install -q git+https://github.com/pyg-team/pytorch_geometric.git\n"
      ]
    },
    {
      "cell_type": "code",
      "source": [
        "from typing import List, Optional, Tuple, Union\n",
        "\n",
        "import torch.nn.functional as F\n",
        "from torch import Tensor\n",
        "\n",
        "from torch_geometric.nn.aggr import Aggregation, MultiAggregation\n",
        "from torch_geometric.nn.conv import MessagePassing\n",
        "from torch_geometric.nn.dense.linear import Linear\n",
        "from torch_geometric.typing import Adj, OptPairTensor, Size, SparseTensor\n",
        "from torch_geometric.utils import spmm"
      ],
      "metadata": {
        "id": "MMvd3q2SOMOK"
      },
      "execution_count": null,
      "outputs": []
    },
    {
      "cell_type": "code",
      "source": [
        "%matplotlib inline\n",
        "import matplotlib.pyplot as plt\n",
        "from sklearn.manifold import TSNE\n",
        "\n",
        "def visualize(h, color):\n",
        "    z = TSNE(n_components=2).fit_transform(h.detach().cpu().numpy())\n",
        "\n",
        "    plt.figure(figsize=(10,10))\n",
        "    plt.xticks([])\n",
        "    plt.yticks([])\n",
        "\n",
        "    plt.scatter(z[:, 0], z[:, 1], s=70, c=color, cmap=\"Set2\")\n",
        "    plt.show()"
      ],
      "metadata": {
        "id": "hQb_L2jXVjRU"
      },
      "execution_count": null,
      "outputs": []
    },
    {
      "cell_type": "code",
      "source": [
        "from IPython.display import Javascript  # Restrict height of output cell.\n",
        "display(Javascript('''google.colab.output.setIframeHeight(0, true, {maxHeight: 300})'''))\n"
      ],
      "metadata": {
        "colab": {
          "base_uri": "https://localhost:8080/",
          "height": 17
        },
        "id": "RHGCzU1nfn6a",
        "outputId": "e9b30bb3-5f2b-40ed-f9ff-18a10df8c656"
      },
      "execution_count": null,
      "outputs": [
        {
          "output_type": "display_data",
          "data": {
            "text/plain": [
              "<IPython.core.display.Javascript object>"
            ],
            "application/javascript": [
              "google.colab.output.setIframeHeight(0, true, {maxHeight: 300})"
            ]
          },
          "metadata": {}
        }
      ]
    },
    {
      "cell_type": "code",
      "source": [
        "import argparse\n",
        "import os.path as osp\n",
        "import time\n",
        "\n",
        "import torch\n",
        "import torch.nn.functional as F\n",
        "from torch_geometric.nn import GCNConv,SAGEConv,GATConv\n",
        "import torch.nn.functional as F\n",
        "from torch_geometric.datasets import TUDataset\n",
        "from torch_geometric.loader import DataLoader\n",
        "from torch_geometric.logging import init_wandb, log\n",
        "from torch_geometric.nn import  GCNConv, global_add_pool\n",
        "from torch_geometric.datasets import Planetoid\n",
        "from torch_geometric.transforms import NormalizeFeatures\n",
        "from torch_geometric.transforms import OneHotDegree\n",
        "\n",
        "\n",
        "dataset = TUDataset(root='data/Tudataset', name='NCI1').shuffle()\n",
        "\n",
        "train_loader = DataLoader(dataset[:0.9], 128, shuffle=True)\n",
        "test_loader = DataLoader(dataset[0.9:], 128)\n",
        "\n",
        "\n",
        "\n",
        "\n",
        "if torch.cuda.is_available():\n",
        "    device = torch.device('cuda')\n",
        "elif hasattr(torch.backends, 'mps') and torch.backends.mps.is_available():\n",
        "    # MPS is currently slower than CPU due to missing int64 min/max ops\n",
        "    device = torch.device('cpu')\n",
        "else:\n",
        "    device = torch.device('cpu')\n",
        "\n",
        "init_wandb(\n",
        "    name=f'GIN-{dataset}',\n",
        "    batch_size=128,\n",
        "    lr=0.01,\n",
        "    epochs=100,\n",
        "    hidden_channels=16,\n",
        "    num_layers=2,\n",
        "    device=device,\n",
        ")\n",
        "\n",
        "from torch_geometric.nn import GCN2Conv\n",
        "\n",
        "\n",
        "class Net(torch.nn.Module):\n",
        "    def __init__(self, in_channels, hidden_channels, out_channels, num_layers, alpha, theta,\n",
        "                 shared_weights=True, dropout=0.0):\n",
        "        super().__init__()\n",
        "\n",
        "        torch.manual_seed(1234567)\n",
        "        self.lins = torch.nn.ModuleList()\n",
        "        self.lins.append(Linear(dataset.num_features, hidden_channels))\n",
        "        self.lins.append(Linear(hidden_channels, dataset.num_classes))\n",
        "\n",
        "        self.convs = torch.nn.ModuleList()\n",
        "        for layer in range(num_layers):\n",
        "            self.convs.append(\n",
        "                GCN2Conv(hidden_channels, alpha, theta, layer + 1,\n",
        "                         shared_weights, normalize=False))\n",
        "\n",
        "        self.dropout = dropout\n",
        "\n",
        "\n",
        "    def forward(self, x, edge_index,batch):\n",
        "        x = F.dropout(x, self.dropout, training=self.training)\n",
        "        x = x_0 = self.lins[0](x).relu()\n",
        "\n",
        "        for conv in self.convs:\n",
        "            x = F.dropout(x, self.dropout, training=self.training)\n",
        "            x = conv(x, x_0, edge_index)\n",
        "            x = x.relu()\n",
        "\n",
        "        x = F.dropout(x, self.dropout, training=self.training)\n",
        "        x = self.lins[1](x)\n",
        "        x = global_add_pool(x, batch)\n",
        "        return x\n",
        "\n",
        "\n",
        "model = Net(\n",
        "    in_channels=dataset.num_features,\n",
        "    hidden_channels=16,\n",
        "    out_channels=dataset.num_classes,\n",
        "    num_layers=2,\n",
        "    alpha=0.1,\n",
        "    theta=0.5,\n",
        "    shared_weights=True, dropout=0.6\n",
        ").to(device)\n",
        "optimizer = torch.optim.Adam(model.parameters(), lr=0.01)\n",
        "\n",
        "\n",
        "def train():\n",
        "    model.train()\n",
        "\n",
        "    total_loss = 0\n",
        "    for data in train_loader:\n",
        "        data = data.to(device)\n",
        "        optimizer.zero_grad()\n",
        "        out = model(data.x, data.edge_index, data.batch)\n",
        "        loss = F.cross_entropy(out, data.y)\n",
        "        loss.backward()\n",
        "        optimizer.step()\n",
        "        total_loss += float(loss) * data.num_graphs\n",
        "    return total_loss / len(train_loader.dataset)\n",
        "\n",
        "\n",
        "@torch.no_grad()\n",
        "def test(loader):\n",
        "    model.eval()\n",
        "\n",
        "    total_correct = 0\n",
        "    for data in loader:\n",
        "        data = data.to(device)\n",
        "        out = model(data.x, data.edge_index, data.batch)\n",
        "        pred = out.argmax(dim=-1)\n",
        "        total_correct += int((pred == data.y).sum())\n",
        "    return total_correct / len(loader.dataset)\n",
        "\n",
        "\n",
        "times = []\n",
        "for epoch in range(1, 100+ 1):\n",
        "    start = time.time()\n",
        "    loss = train()\n",
        "    train_acc = test(train_loader)\n",
        "    test_acc = test(test_loader)\n",
        "    log(Epoch=epoch, Loss=loss, Train=train_acc, Test=test_acc)\n",
        "    times.append(time.time() - start)\n",
        "print(f'Median time per epoch: {torch.tensor(times).median():.4f}s')"
      ],
      "metadata": {
        "colab": {
          "base_uri": "https://localhost:8080/"
        },
        "id": "tNax4i36Oti7",
        "outputId": "3ebbb213-f5f3-476b-9b20-f1a52eccae63"
      },
      "execution_count": null,
      "outputs": [
        {
          "output_type": "stream",
          "name": "stderr",
          "text": [
            "Downloading https://www.chrsmrrs.com/graphkerneldatasets/NCI1.zip\n",
            "Processing...\n",
            "Done!\n"
          ]
        },
        {
          "output_type": "stream",
          "name": "stdout",
          "text": [
            "Epoch: 001, Loss: 1.0423, Train: 0.5004, Test: 0.5401\n",
            "Epoch: 002, Loss: 0.6848, Train: 0.5061, Test: 0.5426\n",
            "Epoch: 003, Loss: 0.6793, Train: 0.5526, Test: 0.5791\n",
            "Epoch: 004, Loss: 0.6764, Train: 0.5529, Test: 0.5645\n",
            "Epoch: 005, Loss: 0.6790, Train: 0.5769, Test: 0.5937\n",
            "Epoch: 006, Loss: 0.6821, Train: 0.5007, Test: 0.5377\n",
            "Epoch: 007, Loss: 0.6785, Train: 0.4980, Test: 0.5426\n",
            "Epoch: 008, Loss: 0.6815, Train: 0.4974, Test: 0.5401\n",
            "Epoch: 009, Loss: 0.6916, Train: 0.5856, Test: 0.5718\n",
            "Epoch: 010, Loss: 0.6778, Train: 0.5504, Test: 0.5182\n",
            "Epoch: 011, Loss: 0.6792, Train: 0.5050, Test: 0.5377\n",
            "Epoch: 012, Loss: 0.6755, Train: 0.5731, Test: 0.5961\n",
            "Epoch: 013, Loss: 0.6803, Train: 0.5009, Test: 0.5401\n",
            "Epoch: 014, Loss: 0.6817, Train: 0.5036, Test: 0.5377\n",
            "Epoch: 015, Loss: 0.6779, Train: 0.5109, Test: 0.5426\n",
            "Epoch: 016, Loss: 0.6723, Train: 0.5775, Test: 0.5693\n",
            "Epoch: 017, Loss: 0.6766, Train: 0.5926, Test: 0.6229\n",
            "Epoch: 018, Loss: 0.6798, Train: 0.5885, Test: 0.5912\n",
            "Epoch: 019, Loss: 0.6797, Train: 0.5893, Test: 0.6083\n",
            "Epoch: 020, Loss: 0.6744, Train: 0.5158, Test: 0.5401\n",
            "Epoch: 021, Loss: 0.6804, Train: 0.5356, Test: 0.5620\n",
            "Epoch: 022, Loss: 0.6791, Train: 0.5812, Test: 0.5426\n",
            "Epoch: 023, Loss: 0.6788, Train: 0.5080, Test: 0.5353\n",
            "Epoch: 024, Loss: 0.6777, Train: 0.5591, Test: 0.5888\n",
            "Epoch: 025, Loss: 0.6771, Train: 0.5204, Test: 0.4745\n",
            "Epoch: 026, Loss: 0.6754, Train: 0.5904, Test: 0.6131\n",
            "Epoch: 027, Loss: 0.6736, Train: 0.5469, Test: 0.5742\n",
            "Epoch: 028, Loss: 0.6836, Train: 0.5147, Test: 0.5474\n",
            "Epoch: 029, Loss: 0.6790, Train: 0.5274, Test: 0.5474\n",
            "Epoch: 030, Loss: 0.6765, Train: 0.5147, Test: 0.5426\n",
            "Epoch: 031, Loss: 0.6755, Train: 0.5220, Test: 0.5450\n",
            "Epoch: 032, Loss: 0.6755, Train: 0.5766, Test: 0.6034\n",
            "Epoch: 033, Loss: 0.6754, Train: 0.5137, Test: 0.5328\n",
            "Epoch: 034, Loss: 0.6747, Train: 0.5461, Test: 0.5523\n",
            "Epoch: 035, Loss: 0.6751, Train: 0.5426, Test: 0.5547\n",
            "Epoch: 036, Loss: 0.6746, Train: 0.5028, Test: 0.5377\n",
            "Epoch: 037, Loss: 0.6741, Train: 0.5580, Test: 0.5888\n",
            "Epoch: 038, Loss: 0.6787, Train: 0.5234, Test: 0.4745\n",
            "Epoch: 039, Loss: 0.6702, Train: 0.5242, Test: 0.5499\n",
            "Epoch: 040, Loss: 0.6804, Train: 0.5228, Test: 0.4745\n",
            "Epoch: 041, Loss: 0.6762, Train: 0.5477, Test: 0.5742\n",
            "Epoch: 042, Loss: 0.6790, Train: 0.4988, Test: 0.5401\n",
            "Epoch: 043, Loss: 0.6991, Train: 0.5212, Test: 0.4745\n",
            "Epoch: 044, Loss: 0.6850, Train: 0.5174, Test: 0.5353\n",
            "Epoch: 045, Loss: 0.6784, Train: 0.5377, Test: 0.5499\n",
            "Epoch: 046, Loss: 0.6773, Train: 0.5510, Test: 0.5645\n",
            "Epoch: 047, Loss: 0.6751, Train: 0.5491, Test: 0.5547\n",
            "Epoch: 048, Loss: 0.6783, Train: 0.5810, Test: 0.5377\n",
            "Epoch: 049, Loss: 0.6748, Train: 0.5764, Test: 0.5742\n",
            "Epoch: 050, Loss: 0.6723, Train: 0.5109, Test: 0.5328\n",
            "Epoch: 051, Loss: 0.6753, Train: 0.5374, Test: 0.5499\n",
            "Epoch: 052, Loss: 0.6892, Train: 0.5045, Test: 0.5426\n",
            "Epoch: 053, Loss: 0.6931, Train: 0.5272, Test: 0.5474\n",
            "Epoch: 054, Loss: 0.6858, Train: 0.5218, Test: 0.4745\n",
            "Epoch: 055, Loss: 0.6852, Train: 0.5064, Test: 0.5401\n",
            "Epoch: 056, Loss: 0.6744, Train: 0.5850, Test: 0.5937\n",
            "Epoch: 057, Loss: 0.6758, Train: 0.5234, Test: 0.4745\n",
            "Epoch: 058, Loss: 0.6785, Train: 0.5742, Test: 0.5815\n",
            "Epoch: 059, Loss: 0.6737, Train: 0.5101, Test: 0.5377\n",
            "Epoch: 060, Loss: 0.6706, Train: 0.5880, Test: 0.5620\n",
            "Epoch: 061, Loss: 0.6762, Train: 0.5364, Test: 0.5523\n",
            "Epoch: 062, Loss: 0.6787, Train: 0.5034, Test: 0.5377\n",
            "Epoch: 063, Loss: 0.6764, Train: 0.5312, Test: 0.5474\n",
            "Epoch: 064, Loss: 0.6724, Train: 0.5315, Test: 0.5450\n",
            "Epoch: 065, Loss: 0.6717, Train: 0.5109, Test: 0.5353\n",
            "Epoch: 066, Loss: 0.6739, Train: 0.5085, Test: 0.5401\n",
            "Epoch: 067, Loss: 0.6788, Train: 0.5699, Test: 0.5596\n",
            "Epoch: 068, Loss: 0.6706, Train: 0.5834, Test: 0.5547\n",
            "Epoch: 069, Loss: 0.6761, Train: 0.5012, Test: 0.5377\n",
            "Epoch: 070, Loss: 0.6865, Train: 0.5931, Test: 0.5547\n",
            "Epoch: 071, Loss: 0.6761, Train: 0.4988, Test: 0.5401\n",
            "Epoch: 072, Loss: 0.6761, Train: 0.6007, Test: 0.5669\n",
            "Epoch: 073, Loss: 0.6808, Train: 0.4988, Test: 0.5401\n",
            "Epoch: 074, Loss: 0.6757, Train: 0.5453, Test: 0.5693\n",
            "Epoch: 075, Loss: 0.6751, Train: 0.5431, Test: 0.5669\n",
            "Epoch: 076, Loss: 0.6709, Train: 0.5328, Test: 0.5450\n",
            "Epoch: 077, Loss: 0.6778, Train: 0.5180, Test: 0.5304\n",
            "Epoch: 078, Loss: 0.6809, Train: 0.5988, Test: 0.5596\n",
            "Epoch: 079, Loss: 0.6734, Train: 0.5296, Test: 0.4745\n",
            "Epoch: 080, Loss: 0.6745, Train: 0.5180, Test: 0.5328\n",
            "Epoch: 081, Loss: 0.6725, Train: 0.5261, Test: 0.5450\n",
            "Epoch: 082, Loss: 0.6761, Train: 0.5066, Test: 0.5377\n",
            "Epoch: 083, Loss: 0.6738, Train: 0.5288, Test: 0.4842\n",
            "Epoch: 084, Loss: 0.6771, Train: 0.5401, Test: 0.5620\n",
            "Epoch: 085, Loss: 0.6794, Train: 0.5026, Test: 0.5401\n",
            "Epoch: 086, Loss: 0.6763, Train: 0.5783, Test: 0.5304\n",
            "Epoch: 087, Loss: 0.6748, Train: 0.5769, Test: 0.5742\n",
            "Epoch: 088, Loss: 0.6760, Train: 0.5164, Test: 0.5377\n",
            "Epoch: 089, Loss: 0.6760, Train: 0.5091, Test: 0.5401\n",
            "Epoch: 090, Loss: 0.6764, Train: 0.5088, Test: 0.5401\n",
            "Epoch: 091, Loss: 0.6784, Train: 0.5934, Test: 0.5669\n",
            "Epoch: 092, Loss: 0.6785, Train: 0.5685, Test: 0.5791\n",
            "Epoch: 093, Loss: 0.6776, Train: 0.5028, Test: 0.5401\n",
            "Epoch: 094, Loss: 0.6842, Train: 0.5985, Test: 0.5718\n",
            "Epoch: 095, Loss: 0.6761, Train: 0.5485, Test: 0.5572\n",
            "Epoch: 096, Loss: 0.6770, Train: 0.5850, Test: 0.5888\n",
            "Epoch: 097, Loss: 0.6786, Train: 0.5015, Test: 0.5377\n",
            "Epoch: 098, Loss: 0.6767, Train: 0.5280, Test: 0.5474\n",
            "Epoch: 099, Loss: 0.6728, Train: 0.5942, Test: 0.5620\n",
            "Epoch: 100, Loss: 0.6787, Train: 0.5004, Test: 0.5377\n",
            "Median time per epoch: 0.5158s\n"
          ]
        }
      ]
    },
    {
      "cell_type": "code",
      "source": [
        "model.eval()\n",
        "\n",
        "for data in test_loader:\n",
        "\n",
        "  out = model(data.x, data.edge_index, data.batch)\n",
        "\n",
        "  visualize(out, color=data.y)\n",
        "\n",
        "\n",
        "\n"
      ],
      "metadata": {
        "colab": {
          "base_uri": "https://localhost:8080/",
          "height": 807
        },
        "id": "kzCutsVVZxb9",
        "outputId": "76ebd42a-371e-4911-9f32-8ae37f5fe261"
      },
      "execution_count": null,
      "outputs": [
        {
          "output_type": "display_data",
          "data": {
            "text/plain": [
              "<Figure size 1000x1000 with 1 Axes>"
            ],
            "image/png": "[encoded data removed]"
          },
          "metadata": {}
        }
      ]
    }
  ]
}